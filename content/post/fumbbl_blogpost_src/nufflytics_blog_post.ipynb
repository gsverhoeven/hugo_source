{
 "cells": [
  {
   "cell_type": "markdown",
   "metadata": {},
   "source": [
    "# Nufflytics: Analyzing Blood Bowl matches from FUMBBL using Python\n",
    "\n",
    "This blogpost is about **Blood Bowl**, a strategic boardgame invented in the late 80's, that I finally started playing last year. Blood bowl is a game of Fantasy Football, where fantasy team races (think \"Orcs\", or \"Elves\") are pitted against each other. Interestingly, the various teams (there are over 20 different ones) require different play styles, and not all team races are equally strong. On tournaments, this gives rise to various compensation schemes to make all teams \"viable\" for competition. There exists a lively tournament scene, with thousands of matches played each year. \n",
    "\n",
    "The idea of this blog post is to showcase some possible analyses that can be done on the [FUMBBL match data I've compiled](https://gsverhoeven.github.io/post/blood-bowl-fumbbl-dataset/). The idea is to make Blood Bowl data analysis (also know as [Nufflytics](https://nufflytics.com), a term coined by Blood Bowler \"Schlice\" in reference to Nuffle, the god of Blood Bowl) easier and more accessible to others. I took inspiration from various sources, detailed at the end of this post. So lets dive in the world of Blood Bowl stats nerdery."
   ]
  },
  {
   "cell_type": "markdown",
   "metadata": {},
   "source": [
    "# Getting started with the data\n",
    "\n",
    "Since the previous blog post on FUMBBL data, I decided to make a separate Github repository [fumbbl_datasets](https://github.com/gsverhoeven/fumbbl_datasets) that contains the Python code to fetch and construct the FUMBBL datasets. You can either download the latest datasets manually, or clone the entire repo to your local drive, depending on your expertise and preferences.\n",
    "\n",
    "The datasets are available both in CSV and HDF5. CSV would be the format of choice for Excel analysis, whereas the HDF5 format is suitable for scripted languages such as Python or R. Here we use Python, with the libraries `Pandas` and `plotnine` for data analysis and visualization. The code below assumes the datasets are locally stored at the location contained in the `path_to_datasets` variable:"
   ]
  },
  {
   "cell_type": "code",
   "execution_count": null,
   "metadata": {},
   "outputs": [],
   "source": [
    "import pandas as pd\n",
    "import numpy as np\n",
    "import plotnine as p9\n",
    "\n",
    "# point this to the location of the HDF5 datasets\n",
    "path_to_datasets = '../../../../fumbbl_datasets/'\n",
    "\n",
    "# FUMBBL matches\n",
    "target = 'datasets/v0.2/df_matches.h5'\n",
    "df_matches = pd.read_hdf(path_to_datasets + target) \n",
    "\n",
    "# FUMBBL matches by team\n",
    "target = 'datasets/v0.2/df_mbt.h5'\n",
    "df_mbt = pd.read_hdf(path_to_datasets + target) \n",
    "\n",
    "# FUMBBL inducements\n",
    "target = 'datasets/v0.2/inducements.h5'\n",
    "inducements = pd.read_hdf(path_to_datasets + target) "
   ]
  },
  {
   "cell_type": "markdown",
   "metadata": {},
   "source": [
    "# What data do we have? Weekly game volumes\n",
    "\n",
    "\n",
    "Let's see what we've got! The pandas DataFrame `df_matches` contains records for all matches played on FUMBBL between august 2020 and march 2022.\n",
    "\n",
    "Since we have a proper `datetime` type variable for each week (`week_date`), we can use `pandas` and `plotnine` to plot the weekly game volume as a time series.\n",
    "\n",
    "The introduction of the new **Competitive division** with BB2020 rules is marked by a vertical red line. I labeled the larger leagues as well a recent tournament I took part in myself."
   ]
  },
  {
   "cell_type": "code",
   "execution_count": null,
   "metadata": {},
   "outputs": [],
   "source": [
    "res = (df_matches\n",
    "    .loc[(df_matches['week_date'] >= '2020-08-01' ) & (df_matches['week_date'] < '2022-11-25')]\n",
    "    .groupby(['week_date', 'week_number', 'division_name'])\n",
    "    .agg(        \n",
    "        n_games = ('match_id', \"count\") \n",
    "    )\n",
    "    .reset_index()) # this adds the \"group by\" variables back as columns of res\n",
    "\n",
    "(p9.ggplot(data = res, mapping = p9.aes(x = 'week_date', y = 'n_games', color = 'division_name'))\n",
    "+ p9.geom_point() \n",
    "+ p9.geom_line()\n",
    "+ p9.expand_limits(y=[0,2000])\n",
    "+ p9.geom_vline(xintercept = '2021-09-01', color = \"red\")\n",
    "+ p9.theme(figure_size = (10, 5))\n",
    "+ p9.ggtitle(\"Weekly game volume on FUMBBL august 2020 - march 2022\"))"
   ]
  },
  {
   "cell_type": "markdown",
   "metadata": {},
   "source": [
    "To check the dataset, I compared this plot with the plot of weekly game volumes that FUMBBL itself provides at https://fumbbl.com/p/stats.\n",
    "Both plots looked identical at the time of writing, so it seems that we have a complete dataset for the given period.\n",
    "\n",
    "The effect of starting the new BB2020 Competitive division is clearly visible, with the weekly game volume almost doubling in september 2021.\n",
    "The first online NAF tournament using BB2020 rules is also visible, running for 6 weeks in October / November 2021."
   ]
  },
  {
   "cell_type": "markdown",
   "metadata": {},
   "source": [
    "# Star player usage on FUMBBL\n",
    "\n",
    "We can also look at the percentage of matches that involve star players.\n",
    "I used the various plot aesthetics like symbol shape and size to encode the game volume and ruleset (BB2016 or BB2020 based)."
   ]
  },
  {
   "cell_type": "code",
   "execution_count": null,
   "metadata": {},
   "outputs": [],
   "source": [
    "divisions = ['Blackbox', 'Competitive', 'Online NAF Tournaments',  'Ranked', 'Regular_league']\n",
    "\n",
    "res = (df_matches\n",
    ".query(\"division_name in @divisions\")\n",
    ".groupby(['division_name', 'league', 'ruleset', 'ruleset_version', 'week_date'])\n",
    ".agg(\n",
    "    n_games = ('match_id', 'count'),\n",
    "    perc_sp = ('has_sp', 'mean')\n",
    ")\n",
    ".reset_index()\n",
    ".sort_values(\"n_games\", ascending=False)\n",
    ")\n",
    "\n",
    "(p9.ggplot(data = res.query(\"n_games > 30\"), mapping = p9.aes(x = 'week_date', y = 'perc_sp', \n",
    "group = 'factor(division_name)', color = 'factor(division_name)'))\n",
    "    + p9.geom_point(p9.aes(shape = 'factor(ruleset_version)', size = 'n_games')) \n",
    "    + p9.expand_limits(y=[0,1])\n",
    "    + p9.scale_size_area()\n",
    "    + p9.geom_vline(xintercept = '2021-09-01', color = \"red\")\n",
    "    + p9.ggtitle(\"Star player usage over time, by division/league\")\n",
    "    + p9.theme(figure_size = (10, 6)))"
   ]
  },
  {
   "cell_type": "markdown",
   "metadata": {},
   "source": [
    "In above graph, the various online NAF Tournaments are clearly distinguished. **Amorical Cup 2020** in summer 2020, **Eur'Open Online** in Nov/dec 2020, **SteelBowl** in Feb 2021, and **LitBowl** in May 2021 were all using BB2016 rules. \n",
    "\n",
    "Through Googling and using the Wayback Machine, I was able to find the rulepacks of these tournaments.  LitBowl featured \"big budgets\" (up to 1440K) and a requirement of only 10 regular players before inducement, this likely explains the large amount of Star Players in that tournament. \n",
    "\n",
    "In contrast, in the GBFU tournament, the first online NAF tournament using the BB2020 rules, only some 15% of matches involved at least one star player. "
   ]
  },
  {
   "cell_type": "markdown",
   "metadata": {},
   "source": [
    "# Are coach ratings predictive of match outcomes?\n",
    "\n",
    "For the main divisions on FUMBBL, ELO style coach ratings are available that are updated after each game.\n",
    "The coach rankings are explained on [this help page](https://fumbbl.com/help:Ranking).\n",
    "\n",
    "According to the ELO ranking system, a coach rating difference of 40 should result in 85% wins for the higher ranked coach.\n",
    "Coaches of equal rating should have a win rate of 0.5 (with draws weighted at half point).\n",
    "\n",
    "The range of coach rankings observed for a particular game tells us something about the relationship between skill and luck.\n",
    "If a game is pure luck, we will never observe large differences in coach rating, since the outcome will be determined by a coin flip, independent of coach skill. \n",
    "\n",
    "On FUMBBL, coach ratings vary roughly between 125 and 175. What do we expect if a coach with a rating of 175 plays a coach of rating 145? Well, the rating difference is 30. According to the formula (assuming equal team strength and equal races), the expected win probability is 1/(1 + 10^0.75) = 85%, and the probability of loss is 15%.\n",
    "\n",
    "Since our CR we obtained from the FUMBBL match result page is an overall coach rating (i.e. it ignores division), we can simply pool all matches from divisions where coach rating is tracked.\n",
    "\n",
    "The match data contains a **Coach Ranking Difference** bin (category) that we can each to calculate the Win/draw/loss percentages for each category.\n",
    "\n",
    "Let's see what the actual percentages are:"
   ]
  },
  {
   "cell_type": "code",
   "execution_count": null,
   "metadata": {},
   "outputs": [],
   "source": [
    "main_divisions = ['Blackbox', 'Ranked', 'Competitive']\n",
    "\n",
    "res = (df_matches[df_matches['division_name'].isin(main_divisions)]\n",
    "    .groupby(['cr_bin', 'team1_win'])\n",
    "    .agg(        \n",
    "        n_games = ('cr_bin', \"count\"),\n",
    "    )\n",
    "    .reset_index()) # this adds the group by variable (now index) as a column\n",
    "\n",
    "# add total games played within each bin\n",
    "res['n_games_bin'] = res.groupby('cr_bin').n_games.transform('sum')\n",
    "\n",
    "res['perc'] = res['n_games']/res['n_games_bin']\n",
    "\n",
    "(p9.ggplot(res, p9.aes(x = 'factor(cr_bin)', y = 'perc', fill = 'factor(team1_win)')) \n",
    "    + p9.geom_bar(position = \"fill\", stat = \"identity\") \n",
    "    + p9.theme(axis_text_x= p9.element_text(rotation=90, hjust=1))\n",
    "    + p9.ggtitle('probability of win/draw/loss as a function of Coach Rating difference')\n",
    ")"
   ]
  },
  {
   "cell_type": "markdown",
   "metadata": {},
   "source": [
    "(Note that I made the bins for large CR differences wider to get more games per bin.)\n",
    "\n",
    "From above graphs, we can conclude that the coach ratings work as expected, with large coach rating differences indeed showing high win rates for the higher ranked coach. From this we can infer that a highly skilled coach will win 9 times out of ten agains a below average coach. We call Blood Bowl a Strategy game for a reason!"
   ]
  },
  {
   "cell_type": "markdown",
   "metadata": {},
   "source": [
    "# What about the passing game in BB2020?\n",
    "\n",
    "With Blood Bowl 2020 also came a large change to passing the ball. Passing is no longer linked to the **Agility** statistics, but now has its own **Passing** (PA) stat. Overall, passing became riskier, and high agility teams do not automatically have good passing stats. For example, only a High Elf thrower has a PA of 2+, whereas the rest of the players have a PA of 4+ or higher. On the Dark Elf team, the player with the best PA stat is the runner, with a PA of 3+, without a built in re-roll. So we can expect quite some changes in the number of completions per match. For more detail I refer to a nice post by king_ghidra at [Blood Bowl Strategies](https://bloodbowlstrategies.com/en/tactics-blood-bowl-second-season/).\n",
    "\n",
    "Let's have a look!"
   ]
  },
  {
   "cell_type": "code",
   "execution_count": null,
   "metadata": {},
   "outputs": [],
   "source": [
    "divisions = ['Ranked', 'Blackbox', 'Competitive']\n",
    "\n",
    "tv_bins = ['1.1M', '1.4M', '1.7M']\n",
    "\n",
    "res = (df_mbt[df_mbt['division_name'].isin(divisions)]\n",
    "    .loc[df_mbt['tv_bin'].isin(tv_bins)]\n",
    "    .query(\"mirror_match == 0 & has_sp == 0 & tv_bin in @tv_bins & division_name in @divisions\")\n",
    "    .groupby(['division_name', 'ruleset_version', 'week_date', 'tv_bin'])\n",
    "    .agg(        \n",
    "        avg_comp = ('home_comp', \"mean\"),\n",
    "        avg_pass = ('home_pass', \"mean\"),\n",
    "        avg_foul = ('home_foul', \"mean\"),\n",
    "        avg_block = ('home_block', \"mean\"),    \n",
    "        avg_cas = ('home_cas', \"mean\"),  \n",
    "        avg_rcv_cas = ('away_cas', \"mean\"),\n",
    "        n_games = ('race_name', \"count\")\n",
    "    )\n",
    "    .sort_values( 'n_games', ascending = False)\n",
    "    .reset_index()) # this adds the group by variables (now index) as a column\n",
    "\n",
    "res = res.dropna()\n",
    "\n",
    "(p9.ggplot(data = res.query('n_games > 10'), \n",
    "            mapping = p9.aes(x = 'week_date', y = 'avg_comp', \n",
    "                            size = 'n_games', color = 'factor(division_name)', shape = 'factor(tv_bin)'))\n",
    "    + p9.geom_point()\n",
    "    + p9.scale_size_area() \n",
    "    + p9.geom_vline(xintercept = '2021-09-01', color = \"red\")    \n",
    "    + p9.theme(figure_size = (10, 5))\n",
    "    + p9.ggtitle(\"average completions per game BB2020 vs BB2016\"))"
   ]
  },
  {
   "cell_type": "code",
   "execution_count": null,
   "metadata": {},
   "outputs": [],
   "source": [
    "divisions = ['Ranked', 'Blackbox', 'Competitive']\n",
    "\n",
    "tv_bins = ['1.1M', '1.4M', '1.7M']\n",
    "\n",
    "res = (df_mbt[df_mbt['division_name'].isin(divisions)]\n",
    "    .loc[df_mbt['tv_bin'].isin(tv_bins)]\n",
    "    .query(\"mirror_match == 0 & has_sp == 0 & tv_bin in @tv_bins & division_name in @divisions\")\n",
    "    .groupby(['ruleset_version', 'race_name', 'tv_bin'])\n",
    "    .agg(        \n",
    "        avg_comp = ('home_comp', \"mean\"),\n",
    "        avg_pass = ('home_pass', \"mean\"),\n",
    "        avg_foul = ('home_foul', \"mean\"),\n",
    "        n_games = ('race_name', \"count\")\n",
    "    )\n",
    "    .sort_values( 'n_games', ascending = False)\n",
    "    .reset_index()) # this adds the group by variables (now index) as a column\n",
    "\n",
    "res = res.dropna()\n",
    "\n",
    "(p9.ggplot(data = res.query('n_games > 10 & tv_bin == \"1.1M\"'), \n",
    "            mapping = p9.aes(y = 'reorder(race_name, avg_comp)', x = 'avg_comp', \n",
    "                            size = 'n_games', group = 'factor(ruleset_version)', \n",
    "                            color = 'factor(ruleset_version)'))\n",
    "    + p9.geom_point()\n",
    "    + p9.scale_size_area() \n",
    "    + p9.ggtitle(\"average completions per game BB2016 vs BB2020 at 1.1M TV\"))"
   ]
  },
  {
   "cell_type": "markdown",
   "metadata": {},
   "source": [
    "Across the board we see a decrease in average completions per match. Note that this is for low team values, at around 1.1M, between 950K and 1250K. \n",
    "\n",
    "Observations that stand out: \n",
    "\n",
    "* High agility teams such as Elven Union, Wood Elf and Skaven show large drops,\n",
    "* Dark elves show the largest relative drop (more than halving in completions), \n",
    "* High Elves are hardly affected, as well as Humans,\n",
    "* Halflings show a large increase."
   ]
  },
  {
   "cell_type": "markdown",
   "metadata": {},
   "source": [
    "# And what about fouling in BB2020?\n",
    "\n",
    "Also for fouling Blood Bowl 2020 brought some changes to the rules. The **Sneaky Git** skill became better, allowing a player to continue moving after the foul has been committed. The **Black Orcs** were added as a new team, that show fouling potential: they have access to cheap bribes, the **Grab** skill to set up a foul, and cheap goblin bruisers to quickly move around the pitch. And there was of course the **swarming** for the Underworld and Snotling teams, that provides a continuous supply of disposable players to foul with. For more detail I refer to a nice post by king_ghidra at [Blood Bowl Strategies](https://bloodbowlstrategies.com/en/tactics-blood-bowl-second-season/).\n",
    "Let us see how the stats were affected!"
   ]
  },
  {
   "cell_type": "code",
   "execution_count": null,
   "metadata": {},
   "outputs": [],
   "source": [
    "divisions = ['Ranked', 'Blackbox', 'Competitive']\n",
    "\n",
    "tv_bins = ['1.1M', '1.2M', '1.3M', '1.4M']\n",
    "\n",
    "res = (df_mbt[df_mbt['division_name'].isin(divisions)]\n",
    "    .loc[df_mbt['tv_bin2'].isin(tv_bins)]\n",
    "    .query(\"mirror_match == 0 & has_sp == 0 & tv_bin2 in @tv_bins & division_name in @divisions\")\n",
    "    .groupby(['ruleset_version', 'race_name', 'tv_bin2'])\n",
    "    .agg(        \n",
    "        avg_comp = ('home_comp', \"mean\"),\n",
    "        avg_pass = ('home_pass', \"mean\"),\n",
    "        avg_foul = ('home_foul', \"mean\"),\n",
    "        n_games = ('race_name', \"count\")\n",
    "    )\n",
    "    .sort_values( 'n_games', ascending = False)\n",
    "    .reset_index()) # this adds the group by variables (now index) as a column\n",
    "\n",
    "res = res.dropna()\n",
    "\n",
    "(p9.ggplot(data = res.query('n_games > 10'), \n",
    "            mapping = p9.aes(y = 'reorder(race_name, avg_foul)', x = 'avg_foul', \n",
    "                            size = 'n_games', color = 'factor(ruleset_version)', \n",
    "                            shape = 'factor(tv_bin2)'))\n",
    "    + p9.geom_point()\n",
    "    + p9.scale_size_area() \n",
    "    + p9.ggtitle(\"average number of fouls per game BB2016 vs BB2020\"))"
   ]
  },
  {
   "cell_type": "markdown",
   "metadata": {},
   "source": [
    "From this plot, we can see that BB2020 indeed shows increased fouling across the board. As expected, the Black Orcs are high up in the fouling charts, and we see large increases in fouling for Underworld, Goblins, Halflings and Snotlings. We can also see that as teams develop, fouling typically increases, possible related to developing a specialized fouling player with the sneaky git skill. For humans access to cheap agile halfling hopefulls with access to sneaky git increased fouling opportunity. In Orc teams goblins can forfill this role."
   ]
  },
  {
   "cell_type": "markdown",
   "metadata": {},
   "source": [
    "# Competitive division win rates and Malta Eurobowl 2022 tiers\n",
    "\n",
    "Last but not least, a win rate analysis. In a tournament setting, elaborate tiering systems are in place to compensate for differences in race strength, skills are selected from skill packs, and player casualties are forgotten with each match played with a \"resurrected\" fresh team. Furthermore, opponents are randomly assigned and must be played. Contrast this with the FUMBBL Competitive division: Here teams start with 1M gold and without any extra skills. Teams must be developed, like in a league, and opponents can be strategically chosen based on which race they play, their coach rating etc. \n",
    "\n",
    "With all this in mind, I tried the impossible: to compare relative team strength as expected by the tournament tiers, with the observed win rates in the Competitive Division. With the Eurobowl 2022 in Malta coming up, I decided to approximate the conditions of that rulepack. Teams are created using 1.15M gold, as well as roughly 36 SPP worth of skills. This translates to 6 primary skills worth 20K, giving us a total team value of 1270K, say around 1.3M.\n",
    "\n",
    "To correct for differences in coaching ability, I restricted the match selection for matches where coach ratings are not too different (< 10), and above 150. I excluded matches involving Star players, and mirror matches (I.e. Orcs vs Orcs). \n",
    "To distinguish the relatively small % differences in win rate, we need to have a bandwidth around 1.3M to get sufficient statistics for each team.\n",
    "I included confidence intervals to visualize the statistical uncertainty for the win rates."
   ]
  },
  {
   "cell_type": "code",
   "execution_count": null,
   "metadata": {},
   "outputs": [],
   "source": [
    "# Function for computing confidence intervals\n",
    "from statsmodels.stats.proportion import proportion_confint   \n",
    "\n",
    "divisions = ['Competitive']\n",
    "\n",
    "tv_bins = ['1.2M', '1.3M', '1.4M']\n",
    "\n",
    "res = (df_mbt[df_mbt['division_name'].isin(divisions)]\n",
    "    .loc[df_mbt['tv_bin2'].isin(tv_bins)]\n",
    "    .query('mirror_match == 0 & has_sp == 0 & CR_diff < 10 & coach_CR > 150')\n",
    "    .groupby(['race_name', 'ruleset_version', 'Malta_2022'])\n",
    "    .agg(        \n",
    "        perc_win = ('wins', \"mean\"),\n",
    "        n_wins = ('wins', \"sum\"),\n",
    "        n_games = ('race_name', \"count\")\n",
    "    )\n",
    "    .query('n_games > 0')\n",
    "    .reset_index()) # this adds the group by variable (now index) as a column\n",
    "\n",
    "res['lower_CI'], res['upper_CI'] =  proportion_confint(\n",
    "                                      count = round(res['n_wins']).astype(int),\n",
    "                                      nobs = res['n_games'],\n",
    "                                      alpha = 0.05\n",
    "                                  )\n",
    "\n",
    "(p9.ggplot(data = res.query('n_games > 30'), \n",
    "            mapping = p9.aes(x = 'reorder(race_name, -Malta_2022)', y = 'perc_win', \n",
    "            size = 'n_games', color = 'factor(Malta_2022)'))\n",
    "    + p9.geom_linerange(p9.aes(ymin = 'lower_CI', ymax = 'upper_CI'), size = 1)\n",
    "    + p9.geom_point()\n",
    "    + p9.scale_size_area() \n",
    "    + p9.coord_flip()\n",
    "    + p9.geom_hline(yintercept = 0.5)\n",
    "    + p9.ggtitle(\"FUMBBL BB2020 win rates around 1.3M\"))\n"
   ]
  },
  {
   "cell_type": "markdown",
   "metadata": {},
   "source": [
    "First off, I think the most important lesson here is that it is really difficult to compare win rates across such different settings.\n",
    "\n",
    "But what info can we squeeze from this plot nevertheless:\n",
    "\n",
    "It seems that Amazon and Underworld have higher FUMBBL win rates than expected based on their Malta 2022 tier.\n",
    "\n",
    "* For Amazon, this might be due to being able to avoid particular opponents on FUMBBL, such as Dwarves and Chaos Dwarves, with a lot of Tackle.\n",
    "* For Underworld, this is likely related to their improvements in BB2020, leading the charts at NAF tournaments, that resulted in recent rule changes that weakened them with the November 2021 Games Workshop ruling. \n",
    "\n",
    "What else do we got:\n",
    "\n",
    "* Nurgle has a relatively low win rate compared to other teams with the same tier.\n",
    "* High Elf has a low tier, but shows an above average win rate, and appears to perform well at NAF tournaments. Curious to see how this race will do this year.\n"
   ]
  },
  {
   "cell_type": "markdown",
   "metadata": {},
   "source": [
    "# Concluding Remarks and acknowledgements\n",
    "\n",
    "The analyses above hopefully give you some idea what can be with the rich FUMMBL data available.\n",
    "\n",
    "One last application: The data can also be used to search for matches based on highly particular search criteria: for example, if you are interested in Snotling matches that induce Morg N Thorg and play against a skilled Elf coach. The `match_id` can then be used to watch the replay on FUMBBL. \n",
    "\n",
    "Finally, some acknowledgements. While writing this blog, I drew inspiration from several sources:\n",
    "\n",
    "* most notable the [FUMBBL website itself](https://www.fumbbl.com) that has a wealth of statistics available, \n",
    "* the [website of FUMBBL coach Koadah](https://fumbbldata.azurewebsites.net/stats.html) with aggregated FUMBBL stats, \n",
    "* the [NAF monthly reports](https://public.tableau.com/app/profile/mike.sann0638.davies/viz/TheNAFReport/Games) by Mike Davies, \n",
    "* a [blog post on team strength](https://bloodbowlstrategies.com/en/relative-strength-of-teams/) by Tareau Amiral , \n",
    "* the [Nufflytics blog](https://nufflytics.com) by Blood Bowl 2 coach Schlice,\n",
    "* the various technical posts of [FUMBBL coach Adam Szieberth](https://fumbbl.com/~SzieberthAdam) who followed a similar approach using Python API and web scraping FUMBBL data. "
   ]
  }
 ],
 "metadata": {
  "interpreter": {
   "hash": "50276fd1884268afe39607052f22ef19b84d915691d702a5c7e9a67a09867105"
  },
  "kernelspec": {
   "display_name": "Python 3.6.9 64-bit ('requests_env': venv)",
   "language": "python",
   "name": "python3"
  },
  "language_info": {
   "codemirror_mode": {
    "name": "ipython",
    "version": 3
   },
   "file_extension": ".py",
   "mimetype": "text/x-python",
   "name": "python",
   "nbconvert_exporter": "python",
   "pygments_lexer": "ipython3",
   "version": "3.6.9"
  },
  "orig_nbformat": 4
 },
 "nbformat": 4,
 "nbformat_minor": 2
}
