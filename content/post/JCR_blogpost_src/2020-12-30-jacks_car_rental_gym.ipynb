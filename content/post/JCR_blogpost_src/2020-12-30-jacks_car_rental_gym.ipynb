{
 "cells": [
  {
   "cell_type": "markdown",
   "metadata": {},
   "source": [
    "# Jack's Car Rental as a Gym Environment\n",
    "\n",
    "This blogpost is about [reinforcement learning](https://en.wikipedia.org/wiki/Reinforcement_learning), considered part of the Machine Learning / AI family of techniques.\n",
    "Reinforcement learning is all about agents taking decisions in complex environments. The decisions (**actions**) take the agent from a current **state** or situation, to a new **state**. When the probability of ending up in a new state is only dependent on the current state, and the action the agent takes, we are facing a so-called **Markov Decision Problem**, or **MDP** for short.\n",
    "\n",
    "Back in 2016, people at OpenAI, a startup company that specializes in AI/ML, created a Python library called **Gym** that provides standardized access to a range of MDP environments. This creates a sharp separation between the RL algorithm (\"The agent\")  and the environment (or task) it tries to solve / optimize / control / achieve. \n",
    "\n",
    "This allows us to easily benchmark RL algorithms on a range of different environments. It also allows us to more easily build on others work, and share our own work (i.e. on Github). Because when I implement something as a Gym Environment, others can then immediately apply their algorithms on it, and vice versa.\n",
    "\n",
    "In this blogpost, we solve a famous decision problem called \"Jack's Car Rental\" by first turning it into a Gym environment and then use a RL algorithm called \"Policy Iteration\" (a form of \"Dynamic Programming\") to solve for the optimal decisions to take in this environment. \n",
    "\n",
    "# Jack's Car Rental problem\n",
    "\n",
    "Learning Reinforcement learning (RL) as a student, means working through the famous [book on RL by Sutton and Barto](http://incompleteideas.net/book/the-book.html). In chapter 4, Example 4.2 (2018 edition), Jack's Car Rental problem is presented:\n",
    "\n",
    "```\n",
    "Jack’s Car Rental \n",
    "\n",
    "Jack manages two locations for a nationwide car rental company. \n",
    "Each day, some number of customers arrive at each location to rent cars. \n",
    "If Jack has a car available, he rents it out and is credited $10 by \n",
    "the national company. If he is out of cars at that location, then the \n",
    "business is lost. Cars become available for renting the day after they \n",
    "are returned. To help ensure that cars are available where they are \n",
    "needed, Jack can move them between the two locations overnight, at a cost \n",
    "of $2 per car moved. We assume that the number of cars requested and \n",
    "returned at each location are Poisson random variables. Suppose Lambda is\n",
    "3 and 4 for rental requests at the first and second locations and \n",
    "3 and 2 for returns. \n",
    "\n",
    "To simplify the problem slightly, we assume that there can be no more than\n",
    "20 cars at each location (any additional cars are returned to the \n",
    "nationwide company, and thus disappear from the problem) and a maximum \n",
    "of five cars can be moved from one location to the other in one night. \n",
    "\n",
    "We take the discount rate to be gamma = 0.9 and formulate this as a \n",
    "continuing finite MDP, where the time steps are days, the state is the \n",
    "number of cars at each location at the end of the day, and the actions \n",
    "are the net numbers of cars moved between the two locations overnight.\n",
    "```\n",
    "\n",
    "In order to implement this MDP in Gym and solving it using DP (Dynamic Programming), we need to calculate for each state - action combination the probability of transitioning to all other states. Here a state is defined as the number of cars at the two locations A and B. Since there can be between 0 and 20 cars at each location, we have in total 21 x 21  = 441 states. We have 11 actions, moving up to five cars from A to B, moving up to five cars from B to A, or moving no cars at all. We also need the rewards **R** for taking action $a$ in state $s$. \n",
    "\n",
    "Luckily for us, Christian Herta and Patrick Baumann, as part of their project  [\"Deep.Teaching\"](https://www.deep-teaching.org/), created a Jupyter Notebook containing a well explained Python code solution for calculating **P**, and **R**, and published it as open source under the MIT license. I extracted their functions and put them in `jcr_mdp.py`, containing two top level functions `create_P_matrix()` and `create_R_matrix()`, these are used when the Gym environment is initialized.\n",
    "\n",
    "# JacksCarRentalEnv\n",
    "\n",
    "My approach to creating the Gym environment for Jack's Car Rental was to take the [Frozen Lake Gym environment](https://gym.openai.com/envs/FrozenLake-v0/), and rework it to become JacksCarRentalEnv. I chose this environment because it has a similar structure as JCR, having discrete states and discrete actions. In addition, it is one of the few environments that create and expose the complete transition matrix **P** needed for the DP algorithm.\n",
    "\n",
    "There is actually not much to it at this point, as most functionality is provided by the `DiscreteEnv` class that our environment builds on. We need only to specify four objects:\n",
    "\n",
    "* nS: number of states \n",
    "* nA: number of actions \n",
    "* P: transitions\n",
    "* isd: initial state distribution (list or array of length nS)\n",
    "\n",
    "`nS` and `nA` were already discussed above, there are 441 and 11 respectively.\n",
    "For the `isd` we simply choose an equal probability to start in any of the 441 states.\n",
    "\n",
    "This leaves us with the transitions **P**. This needs to be in a particular format, a `dictionary dict of dicts of lists, where P[s][a] == [(probability, nextstate, reward, done), ...]` according to the help of this class. So we take the **P** and **R** arrays created by the python code in `jcr_mdp.py` and use these to fill the dictionary in the proper way (drawing inspiration from the Frozen Lake **P** object :)).\n",
    "\n",
    "```python\n",
    "P = {s : {a : [] for a in range(nA)} for s in range(nS)}\n",
    "\n",
    "# prob, next_state, reward, done\n",
    "for s in range(nS):\n",
    "    # need a state vec to extract correct probs from Ptrans\n",
    "    state_vec = np.zeros(nS)\n",
    "    state_vec[s] = 1\n",
    "    for a in range(nA):\n",
    "        prob_vec = np.dot(Ptrans[:,:,a], state_vec)\n",
    "        li = P[s][a]\n",
    "        # add rewards for all transitions\n",
    "        for ns in range(nS):\n",
    "            li.append((prob_vec[ns], ns, R[s][a], False))\n",
    "```\n",
    "And were done! Let's try it out."
   ]
  },
  {
   "cell_type": "code",
   "execution_count": 1,
   "metadata": {},
   "outputs": [],
   "source": [
    "import matplotlib.pyplot as plt\n",
    "import numpy as np\n",
    "import pickle\n",
    "\n",
    "# Gym environment\n",
    "import gym\n",
    "import gym_jcr\n",
    "# RL algorithm\n",
    "from dp import *"
   ]
  },
  {
   "cell_type": "code",
   "execution_count": 2,
   "metadata": {},
   "outputs": [
    {
     "name": "stdout",
     "output_type": "stream",
     "text": [
      "\n"
     ]
    }
   ],
   "source": [
    "# n.b. can take up to 15 s\n",
    "env = gym.make(\"JacksCarRentalEnv-v0\") "
   ]
  },
  {
   "cell_type": "markdown",
   "metadata": {},
   "source": [
    "So what we have?"
   ]
  },
  {
   "cell_type": "code",
   "execution_count": 3,
   "metadata": {},
   "outputs": [
    {
     "name": "stdout",
     "output_type": "stream",
     "text": [
      "Discrete(441)\n",
      "Discrete(11)\n",
      "441\n",
      "11\n"
     ]
    }
   ],
   "source": [
    "# print the state space and action space\n",
    "print(env.observation_space)\n",
    "print(env.action_space)\n",
    "\n",
    "# print the total number of states and actions\n",
    "print(env.nS)\n",
    "print(env.nA)"
   ]
  },
  {
   "cell_type": "markdown",
   "metadata": {},
   "source": [
    "Let us check for state `s= 0`, for each action `a`, if the probabilities of transitioning to a new state `new_state` sum to one (we need to end up somewhere right?)."
   ]
  },
  {
   "cell_type": "code",
   "execution_count": 4,
   "metadata": {},
   "outputs": [
    {
     "name": "stdout",
     "output_type": "stream",
     "text": [
      "0.9999999999999992 0.9999999999999992 0.9999999999999992 0.9999999999999992 0.9999999999999992 0.9999999999999992 0.9999999999999992 0.9999999999999992 0.9999999999999992 0.9999999999999992 0.9999999999999992 "
     ]
    }
   ],
   "source": [
    "# from state 0, for each action the probs for going to new state\n",
    "s = 0\n",
    "\n",
    "for a in range(env.nA):\n",
    "    prob = 0.0\n",
    "    for new_state in range(env.nS):\n",
    "        prob += env.P[s][a][new_state][0]\n",
    "    print(prob, end = ' ')"
   ]
  },
  {
   "cell_type": "markdown",
   "metadata": {},
   "source": [
    "Close enough. Let's run our Dynamic Programming algorithm on it!"
   ]
  },
  {
   "cell_type": "markdown",
   "metadata": {},
   "source": [
    "# Policy iteration on JCR\n",
    "\n",
    "We reproduce the results from the Sutton & Barto book (p81), where the algorithm converges after four iterations. This takes about 30 min on my computer."
   ]
  },
  {
   "cell_type": "code",
   "execution_count": 5,
   "metadata": {},
   "outputs": [],
   "source": [
    "fullrun = False\n",
    "\n",
    "if fullrun == True:\n",
    "    policy, V = policy_iteration(env, gamma = 0.9)\n",
    "    with open('policy.bin', 'wb') as f:\n",
    "        pickle.dump(policy, f)\n",
    "    with open('values.bin', 'wb') as f:\n",
    "        pickle.dump(V, f)\n",
    "else:\n",
    "    with open('policy.bin', 'rb') as f:\n",
    "        policy = pickle.load(f)\n",
    "    with open('values.bin', 'rb') as f:\n",
    "        V = pickle.load(f)"
   ]
  },
  {
   "cell_type": "markdown",
   "metadata": {},
   "source": [
    "# Plot optimal policy as a contour map\n",
    "\n",
    "We need to transform the policy from a 2d state-action matrix to a 2d state-A, state-B matrix with the action values in the cells. "
   ]
  },
  {
   "cell_type": "code",
   "execution_count": 6,
   "metadata": {},
   "outputs": [],
   "source": [
    "MAX_CARS = 20\n",
    "\n",
    "policy_map = np.zeros([MAX_CARS+1, MAX_CARS+1])\n",
    "\n",
    "for a in range(MAX_CARS+1):\n",
    "    for b in range(MAX_CARS+1):\n",
    "        s = a*(MAX_CARS+1)+b\n",
    "        policy_map[a, b] = np.argmax(policy[s,:]) - 5"
   ]
  },
  {
   "cell_type": "markdown",
   "metadata": {},
   "source": [
    "We visualize the optimal policy as a 2d heatmap using `matplotlib.pyplot.imshow()`."
   ]
  },
  {
   "cell_type": "code",
   "execution_count": 7,
   "metadata": {},
   "outputs": [
    {
     "data": {
      "text/plain": [
       "Text(0, 0.5, 'cars at A')"
      ]
     },
     "execution_count": 7,
     "metadata": {},
     "output_type": "execute_result"
    },
    {
     "data": {
      "image/png": "[encoded data removed]",
      "text/plain": [
       "<Figure size 504x432 with 2 Axes>"
      ]
     },
     "metadata": {},
     "output_type": "display_data"
    }
   ],
   "source": [
    "plt.figure(figsize=(7,6))\n",
    "hmap = plt.imshow(policy_map, cmap='viridis', origin='lower')\n",
    "cbar = plt.colorbar(hmap)\n",
    "cbar.ax.set_ylabel('actions')\n",
    "plt.title('Policy')\n",
    "plt.xlabel(\"cars at B\")\n",
    "plt.ylabel(\"cars at A\")"
   ]
  },
  {
   "cell_type": "markdown",
   "metadata": {},
   "source": [
    "# Conclusion and outlook\n",
    "\n",
    "Conclusion: yes we can turn JCR into a Gym environment and solve it using the exact same code we used to solve the Frozen Lake environment! \n",
    "\n",
    "So now what? One obvious area of improvement is speed: It takes too long to load the environment. Also the DP algorithm is slow, because it uses for loops instead of matrix operations.\n",
    "\n",
    "Also currently the rewards that the environment returns are **average rewards** that are received when taking action *a* in state *s* . However, they do not match the actual amount of cars rented when transitioning from a particular state *s* to a new state *s'*. \n",
    "\n",
    "Finally, adding the modifications to the problem from Exercise 4.7 could also be implemented, but this complicates the calculation of **P** and **R** even further. \n",
    "For me, this is the real takeaway from this exercise: it is really hard to compute the complete set of proper transition probabilities and rewards for an MDP, but it is much easier if we just need to simulate single transitions according to the MDP specification. Wikipedia calls this [Simulator models](https://en.wikipedia.org/wiki/Markov_decision_process#Simulator_models)."
   ]
  }
 ],
 "metadata": {
  "kernelspec": {
   "display_name": "Python 3 (Spyder)",
   "language": "python3",
   "name": "python3"
  },
  "language_info": {
   "codemirror_mode": {
    "name": "ipython",
    "version": 3
   },
   "file_extension": ".py",
   "mimetype": "text/x-python",
   "name": "python",
   "nbconvert_exporter": "python",
   "pygments_lexer": "ipython3",
   "version": "3.6.9"
  }
 },
 "nbformat": 4,
 "nbformat_minor": 4
}
